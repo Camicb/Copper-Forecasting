{
  "nbformat": 4,
  "nbformat_minor": 0,
  "metadata": {
    "colab": {
      "name": "Data extraction.ipynb",
      "private_outputs": true,
      "provenance": [],
      "authorship_tag": "ABX9TyNc4XvXULhGWxkIwjR+znS7",
      "include_colab_link": true
    },
    "kernelspec": {
      "name": "python3",
      "display_name": "Python 3"
    },
    "language_info": {
      "name": "python"
    }
  },
  "cells": [
    {
      "cell_type": "markdown",
      "metadata": {
        "id": "view-in-github",
        "colab_type": "text"
      },
      "source": [
        "<a href=\"https://colab.research.google.com/github/Camicb/Copper-Forecasting/blob/main/Data_extraction.ipynb\" target=\"_parent\"><img src=\"https://colab.research.google.com/assets/colab-badge.svg\" alt=\"Open In Colab\"/></a>"
      ]
    },
    {
      "cell_type": "markdown",
      "metadata": {
        "id": "vPUOeByM20-k"
      },
      "source": [
        "# Data extraction for the Copper Forecasting"
      ]
    },
    {
      "cell_type": "markdown",
      "metadata": {
        "id": "Jh377-CS1Fwm"
      },
      "source": [
        "In this notebook I will extract the data that I will be using in the second part of the project 'Copper Forecasting'. To get the data, I will use the [yfinance](https://aroussi.com/post/python-yahoo-finance) library, which is a financial data library used to download historical market data from Yahoo Finance. The data will range from 2011 to 2021. It is important to note that this library is not official from Yahoo Finances, but works well for the learning purposes of this project. \n",
        "\n"
      ]
    },
    {
      "cell_type": "markdown",
      "metadata": {
        "id": "FO11FglN3gwx"
      },
      "source": [
        "#1. Import Required Libraries"
      ]
    },
    {
      "cell_type": "code",
      "metadata": {
        "id": "bzMZlKn307Ox"
      },
      "source": [
        "! pip install yfinance --upgrade --no-cache-dir -q\n",
        "! pip install git+https://github.com/pydata/pandas-datareader.git -q"
      ],
      "execution_count": null,
      "outputs": []
    },
    {
      "cell_type": "code",
      "metadata": {
        "id": "8CRJWlks3LEA"
      },
      "source": [
        "# Importing libraries\n",
        "import pandas as pd\n",
        "import numpy as np\n",
        "from IPython.core.interactiveshell import InteractiveShell\n",
        "InteractiveShell.ast_node_interactivity = \"all\"\n",
        "from datetime import datetime\n",
        "from pandas_datareader import data as pdr\n",
        "import yfinance as yf\n",
        "yf.pdr_override()"
      ],
      "execution_count": null,
      "outputs": []
    },
    {
      "cell_type": "markdown",
      "metadata": {
        "id": "0j4i5E7u3lht"
      },
      "source": [
        "# 2. Get the data\n",
        "\n",
        "To import data, yfinance requires Yahoo ticker symbols,  so I will create a list for them and another for their names. These will be the variables to analyze."
      ]
    },
    {
      "cell_type": "code",
      "metadata": {
        "id": "MuyFdMHA3bCN"
      },
      "source": [
        "# Lists with the symbols and names to extract from the yahoo library. 'Date' is included in the names to preserve future column integrity\n",
        "\n",
        "tickers = ['HG=F', 'GC=F',\t'SI=F', 'CL=F', '^GSPC', '^RUT', 'ZN=F', 'ZT=F', 'PL=F', 'DX=F', '^VIX', 'EEM', 'EURUSD=X', '^N100', '^IXIC'] \n",
        "names = ['Date', 'Copper', 'Gold', 'Silver', 'Crude Oil',\t'S&P500', 'Russel 2000 Index', '10 Yr US T-Note futures', \n",
        "         '2 Yr US T-Note Futures', 'Platinum', 'Dollar Index', 'Volatility Index', 'MSCI EM ETF', 'Euro USD', 'Euronext100', 'Nasdaq']"
      ],
      "execution_count": null,
      "outputs": []
    },
    {
      "cell_type": "markdown",
      "metadata": {
        "id": "Kj-z1P553w5N"
      },
      "source": [
        "In order to maintain consistency with the first project, the specific data range will be between 01/01/2011 and 30/03/2021. I will create an empty DataFrame with this range, to storage the future values extracted with yfinance."
      ]
    },
    {
      "cell_type": "code",
      "metadata": {
        "id": "MTnG_RMQ3zFE"
      },
      "source": [
        "# Creating an empty DataFrame with daily frequency \n",
        "start_date = '2011-01-01'\n",
        "end_date= '2021-03-30'\n",
        "date_range = pd.bdate_range(start=start_date,end=end_date)\n",
        "price = pd.DataFrame({ 'Date': date_range})\n",
        "price['Date']= pd.to_datetime(price['Date'])\n",
        "price.index = price['Date']\n",
        "price.shape"
      ],
      "execution_count": null,
      "outputs": []
    },
    {
      "cell_type": "markdown",
      "metadata": {
        "id": "bj_rwKxS31KF"
      },
      "source": [
        "To extract the data from the package, I will use the list with the ticker symbols that I previously created. Since yfinance can returns the output in a pandas DataFrame, I will loop over the list to extract just the closing prices for all the historical dates of the range; the values will be added to the initial empty DataFrame (price) horizontally. Because different variables will be joined, some NaN values will appear, but I will treat them later."
      ]
    },
    {
      "cell_type": "code",
      "metadata": {
        "id": "HCu-ON0f32Ae"
      },
      "source": [
        "# Extracting data\n",
        "for ticker in tickers:\n",
        "  raw_data = pdr.get_data_yahoo(ticker, start='2011-01-01', end='2021-03-30')\n",
        "  df = raw_data[['Adj Close']]\n",
        "  df.columns = [ticker]\n",
        "  price = price.join(df)"
      ],
      "execution_count": null,
      "outputs": []
    },
    {
      "cell_type": "code",
      "metadata": {
        "id": "Kd0rBJzt35M4"
      },
      "source": [
        "# Renaming the columns for readability\n",
        "price.columns = names"
      ],
      "execution_count": null,
      "outputs": []
    },
    {
      "cell_type": "code",
      "metadata": {
        "id": "c_3K3M426gSY"
      },
      "source": [
        "# Inspecting the new data\n",
        "price.head()"
      ],
      "execution_count": null,
      "outputs": []
    },
    {
      "cell_type": "markdown",
      "metadata": {
        "id": "I4B-vREq373V"
      },
      "source": [
        "I will download the data just in case the yfinance library fails. The csv file  can be found [here](https://raw.githubusercontent.com/Camicb/Copper-Forecasting/main/price.csv)."
      ]
    },
    {
      "cell_type": "code",
      "metadata": {
        "id": "khScj5Se39w5"
      },
      "source": [
        "# To download the csv file locally\n",
        "from google.colab import files\n",
        "price.to_csv('price.csv', index=False)         \n",
        "files.download('price.csv')"
      ],
      "execution_count": null,
      "outputs": []
    }
  ]
}