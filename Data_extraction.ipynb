{
  "nbformat": 4,
  "nbformat_minor": 0,
  "metadata": {
    "colab": {
      "name": "Data extraction.ipynb",
      "provenance": [],
      "authorship_tag": "ABX9TyMWMEQw9jTDlMg3ZLp0z9po",
      "include_colab_link": true
    },
    "kernelspec": {
      "name": "python3",
      "display_name": "Python 3"
    },
    "language_info": {
      "name": "python"
    }
  },
  "cells": [
    {
      "cell_type": "markdown",
      "metadata": {
        "id": "view-in-github",
        "colab_type": "text"
      },
      "source": [
        "<a href=\"https://colab.research.google.com/github/Camicb/Copper-Forecasting/blob/main/Data_extraction.ipynb\" target=\"_parent\"><img src=\"https://colab.research.google.com/assets/colab-badge.svg\" alt=\"Open In Colab\"/></a>"
      ]
    },
    {
      "cell_type": "markdown",
      "metadata": {
        "id": "vPUOeByM20-k"
      },
      "source": [
        "# Data extraction for the Copper Forecasting"
      ]
    },
    {
      "cell_type": "markdown",
      "metadata": {
        "id": "Jh377-CS1Fwm"
      },
      "source": [
        "In this notebook I will extract the data that I will be using in the second part of the project 'Copper Forecasting'. To get the data, I will use the [yfinance](https://aroussi.com/post/python-yahoo-finance) library, which is a financial data library used to download historical market data from Yahoo Finance. The data will range from 2011 to 2021. It is important to note that this library is not official from Yahoo Finances, but works well for the learning purposes of this project. \n",
        "\n"
      ]
    },
    {
      "cell_type": "markdown",
      "metadata": {
        "id": "FO11FglN3gwx"
      },
      "source": [
        "#1. Import Required Libraries"
      ]
    },
    {
      "cell_type": "code",
      "metadata": {
        "colab": {
          "base_uri": "https://localhost:8080/"
        },
        "id": "bzMZlKn307Ox",
        "outputId": "4c9278cf-d2d1-4c8a-f955-0103a155080d"
      },
      "source": [
        "! pip install yfinance --upgrade --no-cache-dir -q\n",
        "! pip install git+https://github.com/pydata/pandas-datareader.git -q"
      ],
      "execution_count": 1,
      "outputs": [
        {
          "output_type": "stream",
          "text": [
            "  Building wheel for pandas-datareader (setup.py) ... \u001b[?25l\u001b[?25hdone\n"
          ],
          "name": "stdout"
        }
      ]
    },
    {
      "cell_type": "code",
      "metadata": {
        "id": "8CRJWlks3LEA"
      },
      "source": [
        "# Importing libraries\n",
        "import pandas as pd\n",
        "import numpy as np\n",
        "from IPython.core.interactiveshell import InteractiveShell\n",
        "InteractiveShell.ast_node_interactivity = \"all\"\n",
        "from datetime import datetime\n",
        "from pandas_datareader import data as pdr\n",
        "import yfinance as yf\n",
        "yf.pdr_override()"
      ],
      "execution_count": 2,
      "outputs": []
    },
    {
      "cell_type": "markdown",
      "metadata": {
        "id": "0j4i5E7u3lht"
      },
      "source": [
        "# 2. Get the data\n",
        "\n",
        "To import data, yfinance requires Yahoo ticker symbols,  so I will create a list for them and another for their names. These will be the variables to analyze."
      ]
    },
    {
      "cell_type": "code",
      "metadata": {
        "id": "MuyFdMHA3bCN"
      },
      "source": [
        "# Lists with the symbols and names to extract from the yahoo library. 'Date' is included in the names to preserve future column integrity\n",
        "\n",
        "tickers = ['HG=F', 'GC=F',\t'SI=F', 'CL=F', '^GSPC', '^RUT', 'ZN=F', 'ZT=F', 'PL=F', 'DX=F', '^VIX', 'EEM', 'EURUSD=X', '^N100', '^IXIC'] \n",
        "names = ['Date', 'Copper', 'Gold', 'Silver', 'Crude Oil',\t'S&P500', 'Russel 2000 Index', '10 Yr US T-Note futures', \n",
        "         '2 Yr US T-Note Futures', 'Platinum', 'Dollar Index', 'Volatility Index', 'MSCI EM ETF', 'Euro USD', 'Euronext100', 'Nasdaq']"
      ],
      "execution_count": 3,
      "outputs": []
    },
    {
      "cell_type": "markdown",
      "metadata": {
        "id": "Kj-z1P553w5N"
      },
      "source": [
        "In order to maintain consistency with the first project, the specific data range will be between 01/01/2011 and 30/03/2021. I will create an empty DataFrame with this range, to storage the future values extracted with yfinance."
      ]
    },
    {
      "cell_type": "code",
      "metadata": {
        "colab": {
          "base_uri": "https://localhost:8080/"
        },
        "id": "MTnG_RMQ3zFE",
        "outputId": "a1be85bc-a12e-482b-88b4-46f84e2310b5"
      },
      "source": [
        "# Creating an empty DataFrame with daily frequency \n",
        "start_date = '2011-01-01'\n",
        "end_date= '2021-03-30'\n",
        "date_range = pd.bdate_range(start=start_date,end=end_date)\n",
        "price = pd.DataFrame({ 'Date': date_range})\n",
        "price['Date']= pd.to_datetime(price['Date'])\n",
        "price.index = price['Date']\n",
        "price.shape"
      ],
      "execution_count": 4,
      "outputs": [
        {
          "output_type": "execute_result",
          "data": {
            "text/plain": [
              "(2672, 1)"
            ]
          },
          "metadata": {
            "tags": []
          },
          "execution_count": 4
        }
      ]
    },
    {
      "cell_type": "markdown",
      "metadata": {
        "id": "bj_rwKxS31KF"
      },
      "source": [
        "To extract the data from the package, I will use the list with the ticker symbols that I previously created. Since yfinance can returns the output in a pandas DataFrame, I will loop over the list to extract just the closing prices for all the historical dates of the range; the values will be added to the initial empty DataFrame (price) horizontally. Because different variables will be joined, some NaN values will appear, but I will treat them later."
      ]
    },
    {
      "cell_type": "code",
      "metadata": {
        "colab": {
          "base_uri": "https://localhost:8080/"
        },
        "id": "HCu-ON0f32Ae",
        "outputId": "223c2dfc-91b6-4c84-eb45-e346ad393d9d"
      },
      "source": [
        "# Extracting data\n",
        "for ticker in tickers:\n",
        "  raw_data = pdr.get_data_yahoo(ticker, start='2011-01-01', end='2021-03-30')\n",
        "  df = raw_data[['Adj Close']]\n",
        "  df.columns = [ticker]\n",
        "  price = price.join(df)"
      ],
      "execution_count": 5,
      "outputs": [
        {
          "output_type": "stream",
          "text": [
            "[*********************100%***********************]  1 of 1 completed\n",
            "[*********************100%***********************]  1 of 1 completed\n",
            "[*********************100%***********************]  1 of 1 completed\n",
            "[*********************100%***********************]  1 of 1 completed\n",
            "[*********************100%***********************]  1 of 1 completed\n",
            "[*********************100%***********************]  1 of 1 completed\n",
            "[*********************100%***********************]  1 of 1 completed\n",
            "[*********************100%***********************]  1 of 1 completed\n",
            "[*********************100%***********************]  1 of 1 completed\n",
            "[*********************100%***********************]  1 of 1 completed\n",
            "[*********************100%***********************]  1 of 1 completed\n",
            "[*********************100%***********************]  1 of 1 completed\n",
            "[*********************100%***********************]  1 of 1 completed\n",
            "[*********************100%***********************]  1 of 1 completed\n",
            "[*********************100%***********************]  1 of 1 completed\n"
          ],
          "name": "stdout"
        }
      ]
    },
    {
      "cell_type": "code",
      "metadata": {
        "id": "Kd0rBJzt35M4"
      },
      "source": [
        "# Renaming the columns for readability\n",
        "price.columns = names"
      ],
      "execution_count": 6,
      "outputs": []
    },
    {
      "cell_type": "code",
      "metadata": {
        "colab": {
          "base_uri": "https://localhost:8080/",
          "height": 459
        },
        "id": "c_3K3M426gSY",
        "outputId": "a0fa3c17-5a89-4344-84e4-1b393d798e36"
      },
      "source": [
        "# Inspecting the new data\n",
        "price.head()"
      ],
      "execution_count": 7,
      "outputs": [
        {
          "output_type": "execute_result",
          "data": {
            "text/html": [
              "<div>\n",
              "<style scoped>\n",
              "    .dataframe tbody tr th:only-of-type {\n",
              "        vertical-align: middle;\n",
              "    }\n",
              "\n",
              "    .dataframe tbody tr th {\n",
              "        vertical-align: top;\n",
              "    }\n",
              "\n",
              "    .dataframe thead th {\n",
              "        text-align: right;\n",
              "    }\n",
              "</style>\n",
              "<table border=\"1\" class=\"dataframe\">\n",
              "  <thead>\n",
              "    <tr style=\"text-align: right;\">\n",
              "      <th></th>\n",
              "      <th>Date</th>\n",
              "      <th>Copper</th>\n",
              "      <th>Gold</th>\n",
              "      <th>Silver</th>\n",
              "      <th>Crude Oil</th>\n",
              "      <th>S&amp;P500</th>\n",
              "      <th>Russel 2000 Index</th>\n",
              "      <th>10 Yr US T-Note futures</th>\n",
              "      <th>2 Yr US T-Note Futures</th>\n",
              "      <th>Platinum</th>\n",
              "      <th>Dollar Index</th>\n",
              "      <th>Volatility Index</th>\n",
              "      <th>MSCI EM ETF</th>\n",
              "      <th>Euro USD</th>\n",
              "      <th>Euronext100</th>\n",
              "      <th>Nasdaq</th>\n",
              "    </tr>\n",
              "    <tr>\n",
              "      <th>Date</th>\n",
              "      <th></th>\n",
              "      <th></th>\n",
              "      <th></th>\n",
              "      <th></th>\n",
              "      <th></th>\n",
              "      <th></th>\n",
              "      <th></th>\n",
              "      <th></th>\n",
              "      <th></th>\n",
              "      <th></th>\n",
              "      <th></th>\n",
              "      <th></th>\n",
              "      <th></th>\n",
              "      <th></th>\n",
              "      <th></th>\n",
              "      <th></th>\n",
              "    </tr>\n",
              "  </thead>\n",
              "  <tbody>\n",
              "    <tr>\n",
              "      <th>2011-01-03</th>\n",
              "      <td>2011-01-03</td>\n",
              "      <td>4.4515</td>\n",
              "      <td>1422.599976</td>\n",
              "      <td>31.096001</td>\n",
              "      <td>91.550003</td>\n",
              "      <td>1271.869995</td>\n",
              "      <td>798.559998</td>\n",
              "      <td>120.171875</td>\n",
              "      <td>109.429688</td>\n",
              "      <td>1781.099976</td>\n",
              "      <td>79.384003</td>\n",
              "      <td>17.610001</td>\n",
              "      <td>38.992073</td>\n",
              "      <td>1.335791</td>\n",
              "      <td>705.380005</td>\n",
              "      <td>2691.520020</td>\n",
              "    </tr>\n",
              "    <tr>\n",
              "      <th>2011-01-04</th>\n",
              "      <td>2011-01-04</td>\n",
              "      <td>4.3635</td>\n",
              "      <td>1378.500000</td>\n",
              "      <td>29.492001</td>\n",
              "      <td>89.379997</td>\n",
              "      <td>1270.199951</td>\n",
              "      <td>785.830017</td>\n",
              "      <td>120.312500</td>\n",
              "      <td>109.398438</td>\n",
              "      <td>1743.099976</td>\n",
              "      <td>79.698997</td>\n",
              "      <td>17.379999</td>\n",
              "      <td>39.170403</td>\n",
              "      <td>1.335684</td>\n",
              "      <td>707.969971</td>\n",
              "      <td>2681.250000</td>\n",
              "    </tr>\n",
              "    <tr>\n",
              "      <th>2011-01-05</th>\n",
              "      <td>2011-01-05</td>\n",
              "      <td>4.4015</td>\n",
              "      <td>1373.400024</td>\n",
              "      <td>29.173000</td>\n",
              "      <td>90.300003</td>\n",
              "      <td>1276.560059</td>\n",
              "      <td>795.090027</td>\n",
              "      <td>119.234375</td>\n",
              "      <td>109.164062</td>\n",
              "      <td>1730.300049</td>\n",
              "      <td>80.538002</td>\n",
              "      <td>17.020000</td>\n",
              "      <td>39.073139</td>\n",
              "      <td>1.332108</td>\n",
              "      <td>705.520020</td>\n",
              "      <td>2702.199951</td>\n",
              "    </tr>\n",
              "    <tr>\n",
              "      <th>2011-01-06</th>\n",
              "      <td>2011-01-06</td>\n",
              "      <td>4.3210</td>\n",
              "      <td>1371.400024</td>\n",
              "      <td>29.110001</td>\n",
              "      <td>88.379997</td>\n",
              "      <td>1273.849976</td>\n",
              "      <td>791.419983</td>\n",
              "      <td>119.812500</td>\n",
              "      <td>109.265625</td>\n",
              "      <td>1732.699951</td>\n",
              "      <td>81.093002</td>\n",
              "      <td>17.400000</td>\n",
              "      <td>38.659710</td>\n",
              "      <td>1.315686</td>\n",
              "      <td>706.090027</td>\n",
              "      <td>2709.889893</td>\n",
              "    </tr>\n",
              "    <tr>\n",
              "      <th>2011-01-07</th>\n",
              "      <td>2011-01-07</td>\n",
              "      <td>4.2725</td>\n",
              "      <td>1368.500000</td>\n",
              "      <td>28.660999</td>\n",
              "      <td>88.029999</td>\n",
              "      <td>1271.500000</td>\n",
              "      <td>787.830017</td>\n",
              "      <td>120.671875</td>\n",
              "      <td>109.429688</td>\n",
              "      <td>1735.099976</td>\n",
              "      <td>81.320999</td>\n",
              "      <td>17.139999</td>\n",
              "      <td>38.303032</td>\n",
              "      <td>1.297993</td>\n",
              "      <td>700.650024</td>\n",
              "      <td>2703.169922</td>\n",
              "    </tr>\n",
              "  </tbody>\n",
              "</table>\n",
              "</div>"
            ],
            "text/plain": [
              "                 Date  Copper         Gold  ...  Euro USD  Euronext100       Nasdaq\n",
              "Date                                        ...                                    \n",
              "2011-01-03 2011-01-03  4.4515  1422.599976  ...  1.335791   705.380005  2691.520020\n",
              "2011-01-04 2011-01-04  4.3635  1378.500000  ...  1.335684   707.969971  2681.250000\n",
              "2011-01-05 2011-01-05  4.4015  1373.400024  ...  1.332108   705.520020  2702.199951\n",
              "2011-01-06 2011-01-06  4.3210  1371.400024  ...  1.315686   706.090027  2709.889893\n",
              "2011-01-07 2011-01-07  4.2725  1368.500000  ...  1.297993   700.650024  2703.169922\n",
              "\n",
              "[5 rows x 16 columns]"
            ]
          },
          "metadata": {
            "tags": []
          },
          "execution_count": 7
        }
      ]
    },
    {
      "cell_type": "markdown",
      "metadata": {
        "id": "I4B-vREq373V"
      },
      "source": [
        "I will download the data just in case the yfinance library fails. "
      ]
    },
    {
      "cell_type": "code",
      "metadata": {
        "colab": {
          "base_uri": "https://localhost:8080/",
          "height": 17
        },
        "id": "khScj5Se39w5",
        "outputId": "f545ba67-c089-447e-d7c9-fa4f65000687"
      },
      "source": [
        "# To download the csv file locally\n",
        "from google.colab import files\n",
        "price.to_csv('price.csv', index=False)         \n",
        "files.download('price.csv')"
      ],
      "execution_count": 8,
      "outputs": [
        {
          "output_type": "display_data",
          "data": {
            "application/javascript": [
              "\n",
              "    async function download(id, filename, size) {\n",
              "      if (!google.colab.kernel.accessAllowed) {\n",
              "        return;\n",
              "      }\n",
              "      const div = document.createElement('div');\n",
              "      const label = document.createElement('label');\n",
              "      label.textContent = `Downloading \"${filename}\": `;\n",
              "      div.appendChild(label);\n",
              "      const progress = document.createElement('progress');\n",
              "      progress.max = size;\n",
              "      div.appendChild(progress);\n",
              "      document.body.appendChild(div);\n",
              "\n",
              "      const buffers = [];\n",
              "      let downloaded = 0;\n",
              "\n",
              "      const channel = await google.colab.kernel.comms.open(id);\n",
              "      // Send a message to notify the kernel that we're ready.\n",
              "      channel.send({})\n",
              "\n",
              "      for await (const message of channel.messages) {\n",
              "        // Send a message to notify the kernel that we're ready.\n",
              "        channel.send({})\n",
              "        if (message.buffers) {\n",
              "          for (const buffer of message.buffers) {\n",
              "            buffers.push(buffer);\n",
              "            downloaded += buffer.byteLength;\n",
              "            progress.value = downloaded;\n",
              "          }\n",
              "        }\n",
              "      }\n",
              "      const blob = new Blob(buffers, {type: 'application/binary'});\n",
              "      const a = document.createElement('a');\n",
              "      a.href = window.URL.createObjectURL(blob);\n",
              "      a.download = filename;\n",
              "      div.appendChild(a);\n",
              "      a.click();\n",
              "      div.remove();\n",
              "    }\n",
              "  "
            ],
            "text/plain": [
              "<IPython.core.display.Javascript object>"
            ]
          },
          "metadata": {
            "tags": []
          }
        },
        {
          "output_type": "display_data",
          "data": {
            "application/javascript": [
              "download(\"download_a37d2793-2bd6-4358-874d-e6ed2568ef4e\", \"price.csv\", 672058)"
            ],
            "text/plain": [
              "<IPython.core.display.Javascript object>"
            ]
          },
          "metadata": {
            "tags": []
          }
        }
      ]
    },
    {
      "cell_type": "markdown",
      "metadata": {
        "id": "tIgxe8Yl7Bhl"
      },
      "source": [
        "The csv file  can be found [here](https://raw.githubusercontent.com/Camicb/Copper-Forecasting/main/price.csv)."
      ]
    }
  ]
}