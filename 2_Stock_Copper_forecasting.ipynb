{
  "nbformat": 4,
  "nbformat_minor": 0,
  "metadata": {
    "colab": {
      "name": "2. Stock Copper forecasting.ipynb",
      "private_outputs": true,
      "provenance": [],
      "toc_visible": true,
      "mount_file_id": "1OXHb8vpCshlj2UFCNJH6Svc4abQQh0XO",
      "authorship_tag": "ABX9TyM/gKNWqwkST2r1e1CR4M7X",
      "include_colab_link": true
    },
    "kernelspec": {
      "name": "python3",
      "display_name": "Python 3"
    },
    "language_info": {
      "name": "python"
    }
  },
  "cells": [
    {
      "cell_type": "markdown",
      "metadata": {
        "id": "view-in-github",
        "colab_type": "text"
      },
      "source": [
        "<a href=\"https://colab.research.google.com/github/Camicb/Copper-Forecasting/blob/main/2_Stock_Copper_forecasting.ipynb\" target=\"_parent\"><img src=\"https://colab.research.google.com/assets/colab-badge.svg\" alt=\"Open In Colab\"/></a>"
      ]
    },
    {
      "cell_type": "markdown",
      "metadata": {
        "id": "0M_OUE9C-fJf"
      },
      "source": [
        "# 2. Stock copper Forecasting"
      ]
    },
    {
      "cell_type": "markdown",
      "metadata": {
        "id": "n9YRKEa_-kJC"
      },
      "source": [
        "The Chilean copper stock not only depend of the international situation but also the national productivity. The data provided by COCHILCO have 2 variables:\n",
        "\n",
        "*   **Fecha** : Datetime\n",
        "*   **Stock Cobre LME (Toneladas Metricas)**: the stock, in metric tonnes\n",
        "\n",
        "I will perform the same methods that I used for the price copper forecasting: ARIMAL based model and facebook Prophet. Please refer to [here](https://github.com/Camicb/Copper-Forecasting/blob/main/1_Price_Copper_forecasting.ipynb)  to more details and explanations."
      ]
    },
    {
      "cell_type": "code",
      "metadata": {
        "id": "t7fYH_sPB-8b"
      },
      "source": [
        "# Installing required libraries\n",
        "\n",
        "!pip install pystan -q\n",
        "!pip install fbprophet -q\n",
        "!pip install statsmodels -q\n",
        "!pip install pmdarima -q\n",
        "!pip install scipy -q"
      ],
      "execution_count": null,
      "outputs": []
    },
    {
      "cell_type": "code",
      "metadata": {
        "id": "_ty3wpYDCCsj"
      },
      "source": [
        "# Importing libraries\n",
        "import pandas as pd\n",
        "import numpy as np\n",
        "%matplotlib inline \n",
        "import matplotlib.pyplot as plt\n",
        "import seaborn as sns\n",
        "from IPython.core.interactiveshell import InteractiveShell\n",
        "InteractiveShell.ast_node_interactivity = \"all\"\n",
        "from fbprophet import Prophet\n",
        "from fbprophet.diagnostics import cross_validation\n",
        "from fbprophet.diagnostics import performance_metrics\n",
        "from fbprophet.plot import plot_cross_validation_metric\n",
        "from sklearn.metrics import mean_squared_error\n",
        "from pmdarima.arima import auto_arima"
      ],
      "execution_count": null,
      "outputs": []
    },
    {
      "cell_type": "code",
      "metadata": {
        "id": "gahNHqeaCHZH"
      },
      "source": [
        "# For reproducibility\n",
        "np.random.seed(2021)"
      ],
      "execution_count": null,
      "outputs": []
    },
    {
      "cell_type": "code",
      "metadata": {
        "id": "sz_f9DR7-RCt"
      },
      "source": [
        "# Loading data\n",
        "stock = pd.read_excel('/content/drive/MyDrive/DATASETS/Copper/stock_cobre.xlsx')"
      ],
      "execution_count": null,
      "outputs": []
    },
    {
      "cell_type": "code",
      "metadata": {
        "id": "GtZ415Rf-roN"
      },
      "source": [
        "# Inspecting data\n",
        "stock.tail()\n",
        "print(' ')\n",
        "stock.info()\n",
        "print(' ')\n",
        "stock.describe()"
      ],
      "execution_count": null,
      "outputs": []
    },
    {
      "cell_type": "code",
      "metadata": {
        "id": "KqbcWWVQFM2O"
      },
      "source": [
        "# Redefining variables for simplification purposes \n",
        "stock.columns = ['ds', 'y']\n",
        "stock.drop(stock.index[0], inplace=True)\n",
        "stock.head()"
      ],
      "execution_count": null,
      "outputs": []
    },
    {
      "cell_type": "code",
      "metadata": {
        "id": "Tbv-4rA0-0H7"
      },
      "source": [
        "# Visualizing data\n",
        "stock.plot(x='ds', y='y')"
      ],
      "execution_count": null,
      "outputs": []
    },
    {
      "cell_type": "code",
      "metadata": {
        "id": "klebkJuD-4iD"
      },
      "source": [
        "# Spliting data into training and testing datasets\n",
        "train_size_stock = int(stock.shape[0]*0.9)\n",
        "train_stock = stock[0:train_size_stock] # 90% data\n",
        "test_stock = stock[train_size_stock:]  # 10% data"
      ],
      "execution_count": null,
      "outputs": []
    },
    {
      "cell_type": "markdown",
      "metadata": {
        "id": "yJIv-xkK-8-7"
      },
      "source": [
        "## 2.1 ARIMA based models"
      ]
    },
    {
      "cell_type": "code",
      "metadata": {
        "id": "eTHiphFj--Ss"
      },
      "source": [
        "# Inspecting ARIMA models\n",
        "\n",
        "train_stock.index = train_stock['ds']\n",
        "test_stock.index =test_stock['ds']\n",
        "\n",
        "model_stock = auto_arima(train_stock['y'], start_p=1, start_q=1,max_p=5, max_q=5, max_d=5, m=1, max_D=5, trace=True, error_action='ignore')"
      ],
      "execution_count": null,
      "outputs": []
    },
    {
      "cell_type": "code",
      "metadata": {
        "id": "7OdsM9HZ_D1h"
      },
      "source": [
        "# Model selection\n",
        "model_stock.summary()"
      ],
      "execution_count": null,
      "outputs": []
    },
    {
      "cell_type": "code",
      "metadata": {
        "id": "WWDn76pJ_Fdk"
      },
      "source": [
        "# Making predictions\n",
        "stock_predictions = pd.DataFrame(model_stock.predict(n_periods=len(test_stock)))\n",
        "stock_predictions.index=test_stock.index\n",
        "stock_predictions.columns = ['predictions']\n",
        "stock_predictions"
      ],
      "execution_count": null,
      "outputs": []
    },
    {
      "cell_type": "code",
      "metadata": {
        "id": "tl4F0nFw_HlD"
      },
      "source": [
        "# Visualizing results\n",
        "plt.plot(train_stock['y'], label='Training')\n",
        "plt.plot(test_stock['y'], label='Test')\n",
        "plt.plot(stock_predictions['predictions'], label='Predictions')\n",
        "plt.legend()"
      ],
      "execution_count": null,
      "outputs": []
    },
    {
      "cell_type": "code",
      "metadata": {
        "id": "swVKLP0j_LT0"
      },
      "source": [
        "# Metrics\n",
        "mean_squared_error(test_stock['y'], stock_predictions['predictions'])"
      ],
      "execution_count": null,
      "outputs": []
    },
    {
      "cell_type": "markdown",
      "metadata": {
        "id": "FtQhMNMUIinJ"
      },
      "source": [
        "In the same way that with copper prices, the ARIMA based model was unable to predict correctly the values."
      ]
    },
    {
      "cell_type": "markdown",
      "metadata": {
        "id": "cBiS3jmK_Onp"
      },
      "source": [
        "##2.2 Facebook Prophet"
      ]
    },
    {
      "cell_type": "code",
      "metadata": {
        "id": "eoe2nUfR_Rkj"
      },
      "source": [
        "# Creating model\n",
        "m_stock= Prophet(daily_seasonality=True)\n",
        "m_stock.fit(train_stock)\n",
        "future_stock = m_stock.make_future_dataframe(periods=807,freq='D') \n",
        "future_stock.tail()"
      ],
      "execution_count": null,
      "outputs": []
    },
    {
      "cell_type": "code",
      "metadata": {
        "id": "M-oyXK9F_SjJ"
      },
      "source": [
        "# Making predictions\n",
        "forecast_stock = m_stock.predict(future_stock)\n",
        "forecast_stock[['ds', 'yhat', 'yhat_lower', 'yhat_upper']].tail()"
      ],
      "execution_count": null,
      "outputs": []
    },
    {
      "cell_type": "code",
      "metadata": {
        "id": "O9ftZd0J_UpJ"
      },
      "source": [
        "# Plot the forecast\n",
        "fig1 = m_stock.plot(forecast_stock, uncertainty=True)"
      ],
      "execution_count": null,
      "outputs": []
    },
    {
      "cell_type": "code",
      "metadata": {
        "id": "87rC9-F9_YNG"
      },
      "source": [
        "# Plot forecast components\n",
        "fig2 = m_stock.plot_components(forecast_stock)"
      ],
      "execution_count": null,
      "outputs": []
    },
    {
      "cell_type": "code",
      "metadata": {
        "id": "0Qd9jyhG_ZhS"
      },
      "source": [
        "# Plot test data and predictions\n",
        "ax_stock=forecast_stock.plot(x='ds',y='yhat',legend=True,label='predictions',figsize=(12,8))\n",
        "test_stock.plot(x='ds',y='y',legend=True,label='True Test Data',ax=ax_stock)"
      ],
      "execution_count": null,
      "outputs": []
    },
    {
      "cell_type": "code",
      "metadata": {
        "id": "ifu22PAZ_cg4"
      },
      "source": [
        "# Metrics\n",
        "y_test = test_stock['y']\n",
        "y_predict = forecast_stock['yhat'][-(len(test_stock)):]\n",
        "mean_squared_error(y_test, y_predict)"
      ],
      "execution_count": null,
      "outputs": []
    },
    {
      "cell_type": "markdown",
      "metadata": {
        "id": "Y97Ov0e2K2QK"
      },
      "source": [
        "The results are even worse with Facebook Prophet than with the ARIMA model. This problem requires a more sophisticated method, like neural networks or collecting more data along with other variables."
      ]
    },
    {
      "cell_type": "markdown",
      "metadata": {
        "id": "KpbR-GhC_jEu"
      },
      "source": [
        "### Conclusion\n",
        "\n",
        "As the prices, stock of copper prices does not have a particular trend or seasonality. They highly depend on the national and international markets situation, and national productivity. Values of last year are very different to the past ones and therefore try to predict the future ones is hard."
      ]
    },
    {
      "cell_type": "markdown",
      "metadata": {
        "id": "EhMIOTox_rgT"
      },
      "source": [
        "#  Bibliography\n",
        "\n",
        "*  https://www.analyticsvidhya.com/blog/2018/10/predicting-stock-price-machine-learningnd-deep-learning-techniques-python/\n",
        "\n",
        "*  https://towardsdatascience.com/time-series-forecasting-using-auto-arima-in-python-bb83e49210cd\n",
        "\n",
        "*  https://alkaline-ml.com/pmdarima/modules/generated/pmdarima.arima.AutoARIMA.html#pmdarima.arima.AutoARIMA\n",
        "\n",
        "*  https://facebook.github.io/prophet/docs/quick_start.html#python-api\n",
        "\n",
        "*  https://sailajakarra.medium.com/facebook-prophet-for-time-series-cf26be1be274\n"
      ]
    }
  ]
}